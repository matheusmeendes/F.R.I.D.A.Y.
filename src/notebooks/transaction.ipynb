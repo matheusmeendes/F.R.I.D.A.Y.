{
 "cells": [
  {
   "cell_type": "code",
   "execution_count": 1,
   "metadata": {},
   "outputs": [],
   "source": [
    "import pandas as pd\n"
   ]
  },
  {
   "cell_type": "code",
   "execution_count": 2,
   "metadata": {},
   "outputs": [
    {
     "name": "stderr",
     "output_type": "stream",
     "text": [
      "C:\\Users\\Inteli\\AppData\\Local\\Temp\\ipykernel_18204\\2406450964.py:1: DtypeWarning: Columns (8) have mixed types. Specify dtype option on import or set low_memory=False.\n",
      "  df_transaction = pd.read_csv('./data/transaction.csv')\n"
     ]
    },
    {
     "data": {
      "text/html": [
       "<div>\n",
       "<style scoped>\n",
       "    .dataframe tbody tr th:only-of-type {\n",
       "        vertical-align: middle;\n",
       "    }\n",
       "\n",
       "    .dataframe tbody tr th {\n",
       "        vertical-align: top;\n",
       "    }\n",
       "\n",
       "    .dataframe thead th {\n",
       "        text-align: right;\n",
       "    }\n",
       "</style>\n",
       "<table border=\"1\" class=\"dataframe\">\n",
       "  <thead>\n",
       "    <tr style=\"text-align: right;\">\n",
       "      <th></th>\n",
       "      <th>id</th>\n",
       "      <th>source</th>\n",
       "      <th>externalId</th>\n",
       "      <th>created</th>\n",
       "      <th>amount</th>\n",
       "      <th>fee</th>\n",
       "      <th>balance</th>\n",
       "      <th>description</th>\n",
       "      <th>workspaceId</th>\n",
       "    </tr>\n",
       "  </thead>\n",
       "  <tbody>\n",
       "    <tr>\n",
       "      <th>0</th>\n",
       "      <td>76145015486160940574096194558863</td>\n",
       "      <td>boleto/6669878786260992</td>\n",
       "      <td>Ym9sZXRvLzY2Njk4Nzg3ODYyNjA5OTI=</td>\n",
       "      <td>2024-08-29 16:10:11.200881 UTC</td>\n",
       "      <td>5150934</td>\n",
       "      <td>0</td>\n",
       "      <td>20499541767</td>\n",
       "      <td>Boleto pago em nome de Charlie Fahringer</td>\n",
       "      <td>4800539376222208</td>\n",
       "    </tr>\n",
       "    <tr>\n",
       "      <th>1</th>\n",
       "      <td>47723342670606051735436374523537</td>\n",
       "      <td>boleto/6653651628064768</td>\n",
       "      <td>Ym9sZXRvLzY2NTM2NTE2MjgwNjQ3Njg=</td>\n",
       "      <td>2024-08-29 16:10:11.200881 UTC</td>\n",
       "      <td>1351772</td>\n",
       "      <td>0</td>\n",
       "      <td>20494390833</td>\n",
       "      <td>Boleto pago em nome de Seymour Adell</td>\n",
       "      <td>4800539376222208</td>\n",
       "    </tr>\n",
       "    <tr>\n",
       "      <th>2</th>\n",
       "      <td>98159137435135308402618415401640</td>\n",
       "      <td>boleto/6529141297905664</td>\n",
       "      <td>Ym9sZXRvLzY1MjkxNDEyOTc5MDU2NjQ=</td>\n",
       "      <td>2024-08-29 16:10:11.200881 UTC</td>\n",
       "      <td>9865727</td>\n",
       "      <td>0</td>\n",
       "      <td>20493039061</td>\n",
       "      <td>Boleto pago em nome de Joel Colschen</td>\n",
       "      <td>4800539376222208</td>\n",
       "    </tr>\n",
       "    <tr>\n",
       "      <th>3</th>\n",
       "      <td>97642956808403685900654340151757</td>\n",
       "      <td>boleto/6372176651354112</td>\n",
       "      <td>Ym9sZXRvLzYzNzIxNzY2NTEzNTQxMTI=</td>\n",
       "      <td>2024-08-29 16:10:11.200881 UTC</td>\n",
       "      <td>4731943</td>\n",
       "      <td>0</td>\n",
       "      <td>20483173334</td>\n",
       "      <td>Boleto pago em nome de Hollis Golec</td>\n",
       "      <td>4800539376222208</td>\n",
       "    </tr>\n",
       "    <tr>\n",
       "      <th>4</th>\n",
       "      <td>69986964265755162882018089423746</td>\n",
       "      <td>boleto/5937930459676672</td>\n",
       "      <td>Ym9sZXRvLzU5Mzc5MzA0NTk2NzY2NzI=</td>\n",
       "      <td>2024-08-29 16:10:11.200881 UTC</td>\n",
       "      <td>5214728</td>\n",
       "      <td>0</td>\n",
       "      <td>20478441391</td>\n",
       "      <td>Boleto pago em nome de Jae Redcross</td>\n",
       "      <td>4800539376222208</td>\n",
       "    </tr>\n",
       "  </tbody>\n",
       "</table>\n",
       "</div>"
      ],
      "text/plain": [
       "                                 id                   source  \\\n",
       "0  76145015486160940574096194558863  boleto/6669878786260992   \n",
       "1  47723342670606051735436374523537  boleto/6653651628064768   \n",
       "2  98159137435135308402618415401640  boleto/6529141297905664   \n",
       "3  97642956808403685900654340151757  boleto/6372176651354112   \n",
       "4  69986964265755162882018089423746  boleto/5937930459676672   \n",
       "\n",
       "                         externalId                         created   amount  \\\n",
       "0  Ym9sZXRvLzY2Njk4Nzg3ODYyNjA5OTI=  2024-08-29 16:10:11.200881 UTC  5150934   \n",
       "1  Ym9sZXRvLzY2NTM2NTE2MjgwNjQ3Njg=  2024-08-29 16:10:11.200881 UTC  1351772   \n",
       "2  Ym9sZXRvLzY1MjkxNDEyOTc5MDU2NjQ=  2024-08-29 16:10:11.200881 UTC  9865727   \n",
       "3  Ym9sZXRvLzYzNzIxNzY2NTEzNTQxMTI=  2024-08-29 16:10:11.200881 UTC  4731943   \n",
       "4  Ym9sZXRvLzU5Mzc5MzA0NTk2NzY2NzI=  2024-08-29 16:10:11.200881 UTC  5214728   \n",
       "\n",
       "   fee      balance                               description  \\\n",
       "0    0  20499541767  Boleto pago em nome de Charlie Fahringer   \n",
       "1    0  20494390833      Boleto pago em nome de Seymour Adell   \n",
       "2    0  20493039061      Boleto pago em nome de Joel Colschen   \n",
       "3    0  20483173334       Boleto pago em nome de Hollis Golec   \n",
       "4    0  20478441391       Boleto pago em nome de Jae Redcross   \n",
       "\n",
       "        workspaceId  \n",
       "0  4800539376222208  \n",
       "1  4800539376222208  \n",
       "2  4800539376222208  \n",
       "3  4800539376222208  \n",
       "4  4800539376222208  "
      ]
     },
     "execution_count": 2,
     "metadata": {},
     "output_type": "execute_result"
    }
   ],
   "source": [
    "df_transaction = pd.read_csv('./data/transaction.csv')\n",
    "df_transaction.head()"
   ]
  },
  {
   "cell_type": "code",
   "execution_count": 4,
   "metadata": {},
   "outputs": [
    {
     "name": "stdout",
     "output_type": "stream",
     "text": [
      "<class 'pandas.core.frame.DataFrame'>\n",
      "RangeIndex: 335580 entries, 0 to 335579\n",
      "Data columns (total 9 columns):\n",
      " #   Column       Non-Null Count   Dtype \n",
      "---  ------       --------------   ----- \n",
      " 0   id           335580 non-null  object\n",
      " 1   source       335575 non-null  object\n",
      " 2   externalId   335575 non-null  object\n",
      " 3   created      335580 non-null  object\n",
      " 4   amount       335580 non-null  int64 \n",
      " 5   fee          335580 non-null  int64 \n",
      " 6   balance      335580 non-null  int64 \n",
      " 7   description  335575 non-null  object\n",
      " 8   workspaceId  335575 non-null  object\n",
      "dtypes: int64(3), object(6)\n",
      "memory usage: 23.0+ MB\n"
     ]
    }
   ],
   "source": [
    "df_transaction.info()"
   ]
  },
  {
   "cell_type": "code",
   "execution_count": 5,
   "metadata": {},
   "outputs": [
    {
     "data": {
      "text/html": [
       "<div>\n",
       "<style scoped>\n",
       "    .dataframe tbody tr th:only-of-type {\n",
       "        vertical-align: middle;\n",
       "    }\n",
       "\n",
       "    .dataframe tbody tr th {\n",
       "        vertical-align: top;\n",
       "    }\n",
       "\n",
       "    .dataframe thead th {\n",
       "        text-align: right;\n",
       "    }\n",
       "</style>\n",
       "<table border=\"1\" class=\"dataframe\">\n",
       "  <thead>\n",
       "    <tr style=\"text-align: right;\">\n",
       "      <th></th>\n",
       "      <th>amount</th>\n",
       "      <th>fee</th>\n",
       "      <th>balance</th>\n",
       "    </tr>\n",
       "  </thead>\n",
       "  <tbody>\n",
       "    <tr>\n",
       "      <th>count</th>\n",
       "      <td>3.355800e+05</td>\n",
       "      <td>335580.000000</td>\n",
       "      <td>3.355800e+05</td>\n",
       "    </tr>\n",
       "    <tr>\n",
       "      <th>mean</th>\n",
       "      <td>2.786095e+05</td>\n",
       "      <td>34.267936</td>\n",
       "      <td>1.044590e+10</td>\n",
       "    </tr>\n",
       "    <tr>\n",
       "      <th>std</th>\n",
       "      <td>7.555802e+06</td>\n",
       "      <td>100.524513</td>\n",
       "      <td>8.423211e+09</td>\n",
       "    </tr>\n",
       "    <tr>\n",
       "      <th>min</th>\n",
       "      <td>-3.000000e+09</td>\n",
       "      <td>0.000000</td>\n",
       "      <td>-1.470000e+02</td>\n",
       "    </tr>\n",
       "    <tr>\n",
       "      <th>25%</th>\n",
       "      <td>-4.518032e+05</td>\n",
       "      <td>1.000000</td>\n",
       "      <td>3.988462e+09</td>\n",
       "    </tr>\n",
       "    <tr>\n",
       "      <th>50%</th>\n",
       "      <td>6.226600e+04</td>\n",
       "      <td>1.000000</td>\n",
       "      <td>6.581602e+09</td>\n",
       "    </tr>\n",
       "    <tr>\n",
       "      <th>75%</th>\n",
       "      <td>9.999310e+05</td>\n",
       "      <td>50.000000</td>\n",
       "      <td>1.825427e+10</td>\n",
       "    </tr>\n",
       "    <tr>\n",
       "      <th>max</th>\n",
       "      <td>1.648915e+09</td>\n",
       "      <td>23463.000000</td>\n",
       "      <td>3.111307e+10</td>\n",
       "    </tr>\n",
       "  </tbody>\n",
       "</table>\n",
       "</div>"
      ],
      "text/plain": [
       "             amount            fee       balance\n",
       "count  3.355800e+05  335580.000000  3.355800e+05\n",
       "mean   2.786095e+05      34.267936  1.044590e+10\n",
       "std    7.555802e+06     100.524513  8.423211e+09\n",
       "min   -3.000000e+09       0.000000 -1.470000e+02\n",
       "25%   -4.518032e+05       1.000000  3.988462e+09\n",
       "50%    6.226600e+04       1.000000  6.581602e+09\n",
       "75%    9.999310e+05      50.000000  1.825427e+10\n",
       "max    1.648915e+09   23463.000000  3.111307e+10"
      ]
     },
     "execution_count": 5,
     "metadata": {},
     "output_type": "execute_result"
    }
   ],
   "source": [
    "df_transaction.describe()"
   ]
  },
  {
   "cell_type": "code",
   "execution_count": 8,
   "metadata": {},
   "outputs": [
    {
     "data": {
      "text/plain": [
       "description\n",
       "Randomly generated                                                  30002\n",
       "Test description                                                      135\n",
       "BR Code Stark Bank                                                    125\n",
       "transaction to random workspace                                        52\n",
       "92886864d3322df8b76a14ca4f0903c2c4eae69f6dc180501a440ee8d7febeff       29\n",
       "                                                                    ...  \n",
       "Jasmin Ciolli (305.314.795-52)                                          1\n",
       "Emanuel Staude (43.745.804/0001-22)                                     1\n",
       "Ulysses Pinder (75.495.027/0001-00)                                     1\n",
       "Willow Mcgory (54.478.571/0001-65)                                      1\n",
       "Hyldahl (60.397.708/0001-50)                                            1\n",
       "Name: count, Length: 57658, dtype: int64"
      ]
     },
     "execution_count": 8,
     "metadata": {},
     "output_type": "execute_result"
    }
   ],
   "source": [
    "df_transaction[df_transaction['amount'] < 0]['description'].value_counts()"
   ]
  }
 ],
 "metadata": {
  "kernelspec": {
   "display_name": "Python 3",
   "language": "python",
   "name": "python3"
  },
  "language_info": {
   "codemirror_mode": {
    "name": "ipython",
    "version": 3
   },
   "file_extension": ".py",
   "mimetype": "text/x-python",
   "name": "python",
   "nbconvert_exporter": "python",
   "pygments_lexer": "ipython3",
   "version": "3.11.9"
  }
 },
 "nbformat": 4,
 "nbformat_minor": 2
}
