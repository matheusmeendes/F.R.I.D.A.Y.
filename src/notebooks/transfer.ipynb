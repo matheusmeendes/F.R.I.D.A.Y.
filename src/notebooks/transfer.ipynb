{
 "cells": [
  {
   "cell_type": "code",
   "execution_count": 1,
   "metadata": {},
   "outputs": [],
   "source": [
    "import pandas as pd "
   ]
  },
  {
   "cell_type": "code",
   "execution_count": 2,
   "metadata": {},
   "outputs": [
    {
     "data": {
      "text/html": [
       "<div>\n",
       "<style scoped>\n",
       "    .dataframe tbody tr th:only-of-type {\n",
       "        vertical-align: middle;\n",
       "    }\n",
       "\n",
       "    .dataframe tbody tr th {\n",
       "        vertical-align: top;\n",
       "    }\n",
       "\n",
       "    .dataframe thead th {\n",
       "        text-align: right;\n",
       "    }\n",
       "</style>\n",
       "<table border=\"1\" class=\"dataframe\">\n",
       "  <thead>\n",
       "    <tr style=\"text-align: right;\">\n",
       "      <th></th>\n",
       "      <th>id</th>\n",
       "      <th>status</th>\n",
       "      <th>created</th>\n",
       "      <th>amount</th>\n",
       "      <th>name</th>\n",
       "      <th>taxId</th>\n",
       "      <th>bankCode</th>\n",
       "      <th>branchCode</th>\n",
       "      <th>accountNumber</th>\n",
       "      <th>workspaceId</th>\n",
       "    </tr>\n",
       "  </thead>\n",
       "  <tbody>\n",
       "    <tr>\n",
       "      <th>0</th>\n",
       "      <td>5239756145295360</td>\n",
       "      <td>success</td>\n",
       "      <td>2024-08-29 15:03:27.684735 UTC</td>\n",
       "      <td>6420682</td>\n",
       "      <td>Isiah</td>\n",
       "      <td>63.293.285/0001-16</td>\n",
       "      <td>71884498</td>\n",
       "      <td>1157</td>\n",
       "      <td>1489520108671048</td>\n",
       "      <td>4800539376222208</td>\n",
       "    </tr>\n",
       "    <tr>\n",
       "      <th>1</th>\n",
       "      <td>5802706098716672</td>\n",
       "      <td>success</td>\n",
       "      <td>2024-08-29 15:03:27.682393 UTC</td>\n",
       "      <td>5136347</td>\n",
       "      <td>Brantingham</td>\n",
       "      <td>903.993.444-46</td>\n",
       "      <td>68900810</td>\n",
       "      <td>5778</td>\n",
       "      <td>6410347877534364</td>\n",
       "      <td>4800539376222208</td>\n",
       "    </tr>\n",
       "    <tr>\n",
       "      <th>2</th>\n",
       "      <td>4676806191874048</td>\n",
       "      <td>success</td>\n",
       "      <td>2024-08-29 15:03:27.682269 UTC</td>\n",
       "      <td>4710645</td>\n",
       "      <td>Ruelar</td>\n",
       "      <td>893.619.151-93</td>\n",
       "      <td>2335109</td>\n",
       "      <td>1178</td>\n",
       "      <td>8662779275696535</td>\n",
       "      <td>4800539376222208</td>\n",
       "    </tr>\n",
       "    <tr>\n",
       "      <th>3</th>\n",
       "      <td>6506393540493312</td>\n",
       "      <td>success</td>\n",
       "      <td>2024-08-29 15:03:27.682058 UTC</td>\n",
       "      <td>6375427</td>\n",
       "      <td>Reineccius</td>\n",
       "      <td>17.694.147/0001-21</td>\n",
       "      <td>17351180</td>\n",
       "      <td>4199</td>\n",
       "      <td>2373377497364947</td>\n",
       "      <td>4800539376222208</td>\n",
       "    </tr>\n",
       "    <tr>\n",
       "      <th>4</th>\n",
       "      <td>5468246727720960</td>\n",
       "      <td>success</td>\n",
       "      <td>2024-08-29 15:03:27.621496 UTC</td>\n",
       "      <td>5875865</td>\n",
       "      <td>Shirley</td>\n",
       "      <td>191.888.772-13</td>\n",
       "      <td>34615822</td>\n",
       "      <td>8351</td>\n",
       "      <td>1636094735270915</td>\n",
       "      <td>5983985402380288</td>\n",
       "    </tr>\n",
       "  </tbody>\n",
       "</table>\n",
       "</div>"
      ],
      "text/plain": [
       "                 id   status                         created   amount  \\\n",
       "0  5239756145295360  success  2024-08-29 15:03:27.684735 UTC  6420682   \n",
       "1  5802706098716672  success  2024-08-29 15:03:27.682393 UTC  5136347   \n",
       "2  4676806191874048  success  2024-08-29 15:03:27.682269 UTC  4710645   \n",
       "3  6506393540493312  success  2024-08-29 15:03:27.682058 UTC  6375427   \n",
       "4  5468246727720960  success  2024-08-29 15:03:27.621496 UTC  5875865   \n",
       "\n",
       "          name               taxId  bankCode branchCode     accountNumber  \\\n",
       "0        Isiah  63.293.285/0001-16  71884498       1157  1489520108671048   \n",
       "1  Brantingham      903.993.444-46  68900810       5778  6410347877534364   \n",
       "2       Ruelar      893.619.151-93   2335109       1178  8662779275696535   \n",
       "3   Reineccius  17.694.147/0001-21  17351180       4199  2373377497364947   \n",
       "4      Shirley      191.888.772-13  34615822       8351  1636094735270915   \n",
       "\n",
       "        workspaceId  \n",
       "0  4800539376222208  \n",
       "1  4800539376222208  \n",
       "2  4800539376222208  \n",
       "3  4800539376222208  \n",
       "4  5983985402380288  "
      ]
     },
     "execution_count": 2,
     "metadata": {},
     "output_type": "execute_result"
    }
   ],
   "source": [
    "df_transfer = pd.read_csv('./data/transfer.csv')\n",
    "df_transfer.head()"
   ]
  },
  {
   "cell_type": "code",
   "execution_count": 6,
   "metadata": {},
   "outputs": [
    {
     "name": "stdout",
     "output_type": "stream",
     "text": [
      "<class 'pandas.core.frame.DataFrame'>\n",
      "RangeIndex: 57627 entries, 0 to 57626\n",
      "Data columns (total 10 columns):\n",
      " #   Column         Non-Null Count  Dtype \n",
      "---  ------         --------------  ----- \n",
      " 0   id             57627 non-null  int64 \n",
      " 1   status         57627 non-null  object\n",
      " 2   created        57627 non-null  object\n",
      " 3   amount         57627 non-null  int64 \n",
      " 4   name           57627 non-null  object\n",
      " 5   taxId          57627 non-null  object\n",
      " 6   bankCode       57627 non-null  int64 \n",
      " 7   branchCode     57627 non-null  object\n",
      " 8   accountNumber  57627 non-null  object\n",
      " 9   workspaceId    57627 non-null  int64 \n",
      "dtypes: int64(4), object(6)\n",
      "memory usage: 4.4+ MB\n"
     ]
    }
   ],
   "source": [
    "df_transfer.info()"
   ]
  },
  {
   "cell_type": "code",
   "execution_count": 7,
   "metadata": {},
   "outputs": [
    {
     "data": {
      "text/html": [
       "<div>\n",
       "<style scoped>\n",
       "    .dataframe tbody tr th:only-of-type {\n",
       "        vertical-align: middle;\n",
       "    }\n",
       "\n",
       "    .dataframe tbody tr th {\n",
       "        vertical-align: top;\n",
       "    }\n",
       "\n",
       "    .dataframe thead th {\n",
       "        text-align: right;\n",
       "    }\n",
       "</style>\n",
       "<table border=\"1\" class=\"dataframe\">\n",
       "  <thead>\n",
       "    <tr style=\"text-align: right;\">\n",
       "      <th></th>\n",
       "      <th>id</th>\n",
       "      <th>amount</th>\n",
       "      <th>bankCode</th>\n",
       "      <th>workspaceId</th>\n",
       "    </tr>\n",
       "  </thead>\n",
       "  <tbody>\n",
       "    <tr>\n",
       "      <th>count</th>\n",
       "      <td>5.762700e+04</td>\n",
       "      <td>5.762700e+04</td>\n",
       "      <td>5.762700e+04</td>\n",
       "      <td>5.762700e+04</td>\n",
       "    </tr>\n",
       "    <tr>\n",
       "      <th>mean</th>\n",
       "      <td>5.623130e+15</td>\n",
       "      <td>2.254757e+06</td>\n",
       "      <td>2.873120e+07</td>\n",
       "      <td>5.422368e+15</td>\n",
       "    </tr>\n",
       "    <tr>\n",
       "      <th>std</th>\n",
       "      <td>6.434831e+14</td>\n",
       "      <td>6.488423e+06</td>\n",
       "      <td>2.924057e+07</td>\n",
       "      <td>4.084879e+14</td>\n",
       "    </tr>\n",
       "    <tr>\n",
       "      <th>min</th>\n",
       "      <td>4.503639e+15</td>\n",
       "      <td>1.000000e+00</td>\n",
       "      <td>0.000000e+00</td>\n",
       "      <td>4.800539e+15</td>\n",
       "    </tr>\n",
       "    <tr>\n",
       "      <th>25%</th>\n",
       "      <td>5.067456e+15</td>\n",
       "      <td>7.141740e+05</td>\n",
       "      <td>4.350225e+06</td>\n",
       "      <td>5.434931e+15</td>\n",
       "    </tr>\n",
       "    <tr>\n",
       "      <th>50%</th>\n",
       "      <td>5.617273e+15</td>\n",
       "      <td>7.979220e+05</td>\n",
       "      <td>1.734351e+07</td>\n",
       "      <td>5.506711e+15</td>\n",
       "    </tr>\n",
       "    <tr>\n",
       "      <th>75%</th>\n",
       "      <td>6.199625e+15</td>\n",
       "      <td>4.840008e+06</td>\n",
       "      <td>4.318036e+07</td>\n",
       "      <td>5.506711e+15</td>\n",
       "    </tr>\n",
       "    <tr>\n",
       "      <th>max</th>\n",
       "      <td>6.755336e+15</td>\n",
       "      <td>7.882400e+08</td>\n",
       "      <td>9.748928e+07</td>\n",
       "      <td>6.301997e+15</td>\n",
       "    </tr>\n",
       "  </tbody>\n",
       "</table>\n",
       "</div>"
      ],
      "text/plain": [
       "                 id        amount      bankCode   workspaceId\n",
       "count  5.762700e+04  5.762700e+04  5.762700e+04  5.762700e+04\n",
       "mean   5.623130e+15  2.254757e+06  2.873120e+07  5.422368e+15\n",
       "std    6.434831e+14  6.488423e+06  2.924057e+07  4.084879e+14\n",
       "min    4.503639e+15  1.000000e+00  0.000000e+00  4.800539e+15\n",
       "25%    5.067456e+15  7.141740e+05  4.350225e+06  5.434931e+15\n",
       "50%    5.617273e+15  7.979220e+05  1.734351e+07  5.506711e+15\n",
       "75%    6.199625e+15  4.840008e+06  4.318036e+07  5.506711e+15\n",
       "max    6.755336e+15  7.882400e+08  9.748928e+07  6.301997e+15"
      ]
     },
     "execution_count": 7,
     "metadata": {},
     "output_type": "execute_result"
    }
   ],
   "source": [
    "df_transfer.describe()"
   ]
  },
  {
   "cell_type": "code",
   "execution_count": 12,
   "metadata": {},
   "outputs": [
    {
     "data": {
      "text/plain": [
       "status\n",
       "success     47612\n",
       "failed       9958\n",
       "canceled       57\n",
       "Name: count, dtype: int64"
      ]
     },
     "execution_count": 12,
     "metadata": {},
     "output_type": "execute_result"
    }
   ],
   "source": [
    "df_transfer['status'].value_counts()"
   ]
  },
  {
   "cell_type": "code",
   "execution_count": 14,
   "metadata": {},
   "outputs": [
    {
     "data": {
      "text/plain": [
       "(57627, 10)"
      ]
     },
     "execution_count": 14,
     "metadata": {},
     "output_type": "execute_result"
    }
   ],
   "source": [
    "df_transfer.shape"
   ]
  },
  {
   "cell_type": "code",
   "execution_count": null,
   "metadata": {},
   "outputs": [],
   "source": []
  }
 ],
 "metadata": {
  "kernelspec": {
   "display_name": "Python 3",
   "language": "python",
   "name": "python3"
  },
  "language_info": {
   "codemirror_mode": {
    "name": "ipython",
    "version": 3
   },
   "file_extension": ".py",
   "mimetype": "text/x-python",
   "name": "python",
   "nbconvert_exporter": "python",
   "pygments_lexer": "ipython3",
   "version": "3.11.9"
  }
 },
 "nbformat": 4,
 "nbformat_minor": 2
}
